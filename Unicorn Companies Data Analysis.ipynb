{
 "cells": [
  {
   "cell_type": "markdown",
   "id": "1c53f366",
   "metadata": {},
   "source": [
    "# Unicorn Companies Data Analysis"
   ]
  },
  {
   "cell_type": "markdown",
   "id": "beabe5dc",
   "metadata": {},
   "source": [
    "# 1. Introduction"
   ]
  },
  {
   "cell_type": "markdown",
   "id": "693cdfc6",
   "metadata": {},
   "source": [
    "## 1.1 Background\n",
    "A unicorn is a privately held starup company with a valuation over $1 billion USD. For a starup, becoming a unicorn would attract more investors and thus get more financial support to grow its business. For an investor, investing unicorns could benefit from high returns if they went IPO or were acquired by big companies. In 2021, stock market experienced a sharp rally after a huge drop in 2020. During this period, more and more unicorns drew investor's attention as they realized these investment opportunities could potentially double their investment. I am interested in investment and always explore the trend in the finacial market. Therefore I chose to do a data analysis of the Unicorn Companies Dataset."
   ]
  },
  {
   "cell_type": "markdown",
   "id": "4f91c59f",
   "metadata": {},
   "source": [
    "## 1.2 Data Set\n",
    "\n",
    "This data set includes companies that became unicorns from 2007-2022. \n",
    "\n",
    "Variables I used in the data analysis:\n",
    "\n",
    "- `Company`: Company name\n",
    "- `Valuation ($B)`: Valuation in billion\n",
    "- `Date Joined`: Date when companies became unicorns\n",
    "- `Country`: Country\n",
    "- `Industry`: Industry\n",
    "- `Financial Stage`: Financial stage (eg. IPO, Acquired)\n",
    "- `Investors Count`: Number of Investors"
   ]
  },
  {
   "cell_type": "markdown",
   "id": "bb5f3290",
   "metadata": {},
   "source": [
    "## 1.3 Methods"
   ]
  },
  {
   "cell_type": "markdown",
   "id": "8f0d5dcf",
   "metadata": {},
   "source": [
    "**1. Import Data**\n",
    "\n",
    "\n",
    "**2. Data Cleaning and Wrangling**\n",
    "- Removed symbols in numerical data\n",
    "- Fixed error in data (eg. misspelling, repeated category due to the mix of upper and lower case)\n",
    "- Converted data type\n",
    "- Handled missing data\n",
    "- Mutate data frame by adding new columns and changing the existing columns for later data analysis.\n",
    "    \n",
    "\n",
    "**3. Data Exploration and Visualization** In this section, I displayed the following information either by graphs or tables:\n",
    "- Number of unicorns joined each year from 2007-2022.\n",
    "- The industry that has the most unicorns.\n",
    "- Sum of total raised fund by country from 2007-2022.\n",
    "- Sum of investor counts by country from 2007-2022.\n",
    "- Number of unicorns that are IPO or acquired. \n",
    "\n",
    "\n",
    "**4. Model Constructing and Prediction:** In this section, I wanted to explore the relationship between `Valuation ($B)` and `Total Raised ($M)`. My hypothesis is that the higher the valuation of an unicorn, the more fund it can raise. I applied a simple linear regression model by using `Valuation ($B)` as the feature variable and `Total Raised ($M)` as the target variable. As a result, I predicted the total raised fund (in million) given the valution (in billion) using this model."
   ]
  },
  {
   "cell_type": "markdown",
   "id": "a2875bfb",
   "metadata": {},
   "source": [
    "# 2. Import Data"
   ]
  },
  {
   "cell_type": "markdown",
   "id": "8042aa44",
   "metadata": {},
   "source": [
    "## 2.1 Import Packages"
   ]
  },
  {
   "cell_type": "code",
   "execution_count": 1,
   "id": "c5d23f25",
   "metadata": {},
   "outputs": [],
   "source": [
    "# import packages\n",
    "import pandas as pd\n",
    "import numpy as np\n",
    "import matplotlib.pyplot as plt\n",
    "%matplotlib inline\n",
    "import seaborn as sns\n",
    "from sklearn import (\n",
    "    linear_model, metrics, neural_network, pipeline, model_selection\n",
    ")"
   ]
  },
  {
   "cell_type": "markdown",
   "id": "5164b080",
   "metadata": {},
   "source": [
    "## 2.2 Read Data"
   ]
  },
  {
   "cell_type": "code",
   "execution_count": 2,
   "id": "195cbb1d",
   "metadata": {},
   "outputs": [
    {
     "data": {
      "text/html": [
       "<div>\n",
       "<style scoped>\n",
       "    .dataframe tbody tr th:only-of-type {\n",
       "        vertical-align: middle;\n",
       "    }\n",
       "\n",
       "    .dataframe tbody tr th {\n",
       "        vertical-align: top;\n",
       "    }\n",
       "\n",
       "    .dataframe thead th {\n",
       "        text-align: right;\n",
       "    }\n",
       "</style>\n",
       "<table border=\"1\" class=\"dataframe\">\n",
       "  <thead>\n",
       "    <tr style=\"text-align: right;\">\n",
       "      <th></th>\n",
       "      <th>Company</th>\n",
       "      <th>Valuation ($B)</th>\n",
       "      <th>Date Joined</th>\n",
       "      <th>Country</th>\n",
       "      <th>City</th>\n",
       "      <th>Industry</th>\n",
       "      <th>Select Inverstors</th>\n",
       "      <th>Founded Year</th>\n",
       "      <th>Total Raised</th>\n",
       "      <th>Financial Stage</th>\n",
       "      <th>Investors Count</th>\n",
       "      <th>Deal Terms</th>\n",
       "      <th>Portfolio Exits</th>\n",
       "    </tr>\n",
       "  </thead>\n",
       "  <tbody>\n",
       "    <tr>\n",
       "      <th>0</th>\n",
       "      <td>Bytedance</td>\n",
       "      <td>$140</td>\n",
       "      <td>2017-04-07</td>\n",
       "      <td>China</td>\n",
       "      <td>Beijing</td>\n",
       "      <td>Artificial intelligence</td>\n",
       "      <td>Sequoia Capital China, SIG Asia Investments, S...</td>\n",
       "      <td>2012</td>\n",
       "      <td>$7.44B</td>\n",
       "      <td>IPO</td>\n",
       "      <td>28</td>\n",
       "      <td>8</td>\n",
       "      <td>5</td>\n",
       "    </tr>\n",
       "    <tr>\n",
       "      <th>1</th>\n",
       "      <td>SpaceX</td>\n",
       "      <td>$100.30</td>\n",
       "      <td>2012-12-01</td>\n",
       "      <td>United States</td>\n",
       "      <td>Hawthorne</td>\n",
       "      <td>Other</td>\n",
       "      <td>Founders Fund, Draper Fisher Jurvetson, Rothen...</td>\n",
       "      <td>2002</td>\n",
       "      <td>$6.874B</td>\n",
       "      <td>None</td>\n",
       "      <td>29</td>\n",
       "      <td>12</td>\n",
       "      <td>None</td>\n",
       "    </tr>\n",
       "    <tr>\n",
       "      <th>2</th>\n",
       "      <td>Stripe</td>\n",
       "      <td>$95</td>\n",
       "      <td>2014-01-23</td>\n",
       "      <td>United States</td>\n",
       "      <td>San Francisco</td>\n",
       "      <td>Fintech</td>\n",
       "      <td>Khosla Ventures, LowercaseCapital, capitalG</td>\n",
       "      <td>2010</td>\n",
       "      <td>$2.901B</td>\n",
       "      <td>Asset</td>\n",
       "      <td>39</td>\n",
       "      <td>12</td>\n",
       "      <td>1</td>\n",
       "    </tr>\n",
       "  </tbody>\n",
       "</table>\n",
       "</div>"
      ],
      "text/plain": [
       "     Company Valuation ($B) Date Joined        Country           City  \\\n",
       "0  Bytedance          $140   2017-04-07          China        Beijing   \n",
       "1     SpaceX       $100.30   2012-12-01  United States      Hawthorne   \n",
       "2     Stripe           $95   2014-01-23  United States  San Francisco   \n",
       "\n",
       "                  Industry                                  Select Inverstors  \\\n",
       "0  Artificial intelligence  Sequoia Capital China, SIG Asia Investments, S...   \n",
       "1                    Other  Founders Fund, Draper Fisher Jurvetson, Rothen...   \n",
       "2                  Fintech        Khosla Ventures, LowercaseCapital, capitalG   \n",
       "\n",
       "  Founded Year Total Raised Financial Stage Investors Count Deal Terms  \\\n",
       "0         2012       $7.44B             IPO              28          8   \n",
       "1         2002      $6.874B            None              29         12   \n",
       "2         2010      $2.901B           Asset              39         12   \n",
       "\n",
       "  Portfolio Exits  \n",
       "0               5  \n",
       "1            None  \n",
       "2               1  "
      ]
     },
     "execution_count": 2,
     "metadata": {},
     "output_type": "execute_result"
    }
   ],
   "source": [
    "# read the csv file\n",
    "unicorn_raw = pd.read_csv('Unicorn_Companies.csv', parse_dates = [\"Date Joined\"])\n",
    "unicorn_raw.head(3)"
   ]
  },
  {
   "cell_type": "markdown",
   "id": "2c6c1583",
   "metadata": {},
   "source": [
    "Source: https://www.kaggle.com/datasets/deepcontractor/unicorn-companies-dataset"
   ]
  },
  {
   "cell_type": "code",
   "execution_count": 3,
   "id": "bddb6f78",
   "metadata": {},
   "outputs": [
    {
     "data": {
      "text/html": [
       "<div>\n",
       "<style scoped>\n",
       "    .dataframe tbody tr th:only-of-type {\n",
       "        vertical-align: middle;\n",
       "    }\n",
       "\n",
       "    .dataframe tbody tr th {\n",
       "        vertical-align: top;\n",
       "    }\n",
       "\n",
       "    .dataframe thead th {\n",
       "        text-align: right;\n",
       "    }\n",
       "</style>\n",
       "<table border=\"1\" class=\"dataframe\">\n",
       "  <thead>\n",
       "    <tr style=\"text-align: right;\">\n",
       "      <th></th>\n",
       "      <th>Company</th>\n",
       "      <th>Valuation ($B)</th>\n",
       "      <th>Date Joined</th>\n",
       "      <th>Country</th>\n",
       "      <th>Industry</th>\n",
       "      <th>Total Raised</th>\n",
       "      <th>Financial Stage</th>\n",
       "      <th>Investors Count</th>\n",
       "    </tr>\n",
       "  </thead>\n",
       "  <tbody>\n",
       "    <tr>\n",
       "      <th>0</th>\n",
       "      <td>Bytedance</td>\n",
       "      <td>$140</td>\n",
       "      <td>2017-04-07</td>\n",
       "      <td>China</td>\n",
       "      <td>Artificial intelligence</td>\n",
       "      <td>$7.44B</td>\n",
       "      <td>IPO</td>\n",
       "      <td>28</td>\n",
       "    </tr>\n",
       "    <tr>\n",
       "      <th>1</th>\n",
       "      <td>SpaceX</td>\n",
       "      <td>$100.30</td>\n",
       "      <td>2012-12-01</td>\n",
       "      <td>United States</td>\n",
       "      <td>Other</td>\n",
       "      <td>$6.874B</td>\n",
       "      <td>None</td>\n",
       "      <td>29</td>\n",
       "    </tr>\n",
       "    <tr>\n",
       "      <th>2</th>\n",
       "      <td>Stripe</td>\n",
       "      <td>$95</td>\n",
       "      <td>2014-01-23</td>\n",
       "      <td>United States</td>\n",
       "      <td>Fintech</td>\n",
       "      <td>$2.901B</td>\n",
       "      <td>Asset</td>\n",
       "      <td>39</td>\n",
       "    </tr>\n",
       "  </tbody>\n",
       "</table>\n",
       "</div>"
      ],
      "text/plain": [
       "     Company Valuation ($B) Date Joined        Country  \\\n",
       "0  Bytedance          $140   2017-04-07          China   \n",
       "1     SpaceX       $100.30   2012-12-01  United States   \n",
       "2     Stripe           $95   2014-01-23  United States   \n",
       "\n",
       "                  Industry Total Raised Financial Stage Investors Count  \n",
       "0  Artificial intelligence       $7.44B             IPO              28  \n",
       "1                    Other      $6.874B            None              29  \n",
       "2                  Fintech      $2.901B           Asset              39  "
      ]
     },
     "execution_count": 3,
     "metadata": {},
     "output_type": "execute_result"
    }
   ],
   "source": [
    "# create data frame with selected columns\n",
    "unicorn_data = unicorn_raw.loc[:, [\"Company\",\"Valuation ($B)\",\"Date Joined\",\"Country\",\"Industry\",\n",
    "                                  \"Total Raised\",\"Financial Stage\",\"Investors Count\"]]\n",
    "unicorn_data.head(3)"
   ]
  },
  {
   "cell_type": "code",
   "execution_count": 4,
   "id": "9afe3480",
   "metadata": {},
   "outputs": [
    {
     "name": "stdout",
     "output_type": "stream",
     "text": [
      "<class 'pandas.core.frame.DataFrame'>\n",
      "RangeIndex: 1037 entries, 0 to 1036\n",
      "Data columns (total 8 columns):\n",
      " #   Column           Non-Null Count  Dtype         \n",
      "---  ------           --------------  -----         \n",
      " 0   Company          1037 non-null   object        \n",
      " 1   Valuation ($B)   1037 non-null   object        \n",
      " 2   Date Joined      1037 non-null   datetime64[ns]\n",
      " 3   Country          1037 non-null   object        \n",
      " 4   Industry         1037 non-null   object        \n",
      " 5   Total Raised     1037 non-null   object        \n",
      " 6   Financial Stage  1037 non-null   object        \n",
      " 7   Investors Count  1037 non-null   object        \n",
      "dtypes: datetime64[ns](1), object(7)\n",
      "memory usage: 64.9+ KB\n"
     ]
    }
   ],
   "source": [
    "unicorn_data.info()"
   ]
  },
  {
   "cell_type": "markdown",
   "id": "4f3f6e2d",
   "metadata": {},
   "source": [
    "# 3. Data Cleaning"
   ]
  },
  {
   "cell_type": "markdown",
   "id": "3b58466e",
   "metadata": {},
   "source": [
    "First of all, I checked if there is any missing data in the data set and replaced it with either None or 0. Then I removed symbols and converted all non-string column into their correct data type as the following:\n",
    "\n",
    "- `Valuation ($B)`: convert to float\n",
    "- `Date Joined`: convert to date when importing\n",
    "- `Country`: convert to category\n",
    "- `City`: convert to category\n",
    "- `Industry`:  convert to category\n",
    "- `Total Raised`: convert to float\n",
    "- `Investor Count`: convert to integer"
   ]
  },
  {
   "cell_type": "markdown",
   "id": "44698084",
   "metadata": {},
   "source": [
    "## 3.1 Clean Data"
   ]
  },
  {
   "cell_type": "code",
   "execution_count": 5,
   "id": "5cc8264d",
   "metadata": {},
   "outputs": [
    {
     "name": "stdout",
     "output_type": "stream",
     "text": [
      "Total Raised has missing data\n",
      "Financial Stage has missing data\n",
      "Investors Count has missing data\n"
     ]
    }
   ],
   "source": [
    "# find out columns with missing data\n",
    "cols = [\"Company\",\"Valuation ($B)\",\"Country\",\"Industry\",\n",
    "        \"Total Raised\",\"Financial Stage\",\"Investors Count\"]\n",
    "for col in cols:\n",
    "    a = unicorn_data[col] == \"None\"\n",
    "    if(a.any()):\n",
    "        print(\"{} has missing data\".format(col))"
   ]
  },
  {
   "cell_type": "markdown",
   "id": "d806d044",
   "metadata": {},
   "source": [
    "For *category data type*, I used `unique()` to check if there is any error with the name of each category and replaced the error with the correct name. For *number data type*, I removed dollar sign and unit to keep just number and converted to either integer or float. For all columns, I replaced the missing data with either `None` or `0`."
   ]
  },
  {
   "cell_type": "markdown",
   "id": "0457d15f",
   "metadata": {},
   "source": [
    "### Valuation"
   ]
  },
  {
   "cell_type": "code",
   "execution_count": 6,
   "id": "84db167b",
   "metadata": {},
   "outputs": [],
   "source": [
    "#`Valuation ($B)`: convert to float, remove $\n",
    "unicorn_data['Valuation ($B)'] = unicorn_data['Valuation ($B)'].replace({\"\\$\": \"\"}, regex=True).astype(float)"
   ]
  },
  {
   "cell_type": "markdown",
   "id": "0a25a6d9",
   "metadata": {},
   "source": [
    "### Country"
   ]
  },
  {
   "cell_type": "code",
   "execution_count": 7,
   "id": "66bc822a",
   "metadata": {},
   "outputs": [
    {
     "data": {
      "text/plain": [
       "array(['China', 'United States', 'Sweden', 'Australia', 'United Kingdom',\n",
       "       'Bahamas', 'India', 'Indonesia', 'Germany', 'Hong Kong', 'Mexico',\n",
       "       'Estonia', 'Canada', 'Turkey', 'South Korea', 'Netherlands',\n",
       "       'Israel', 'France', 'Finland', 'Colombia', 'Belgium', 'Brazil',\n",
       "       'Denmark', 'Lithuania', 'Austria', 'Ireland', 'Singapore',\n",
       "       'Vietnam', 'United Arab Emirates', 'Switzerland', 'Argentina',\n",
       "       'Spain', 'Japan', 'Luxembourg', 'Nigeria', 'Philippines',\n",
       "       'Senegal', 'Malaysia', 'Bermuda', 'Norway', 'South Africa',\n",
       "       'Chile', 'Thailand', 'Czech Republic', 'Croatia', 'Italy'],\n",
       "      dtype=object)"
      ]
     },
     "execution_count": 7,
     "metadata": {},
     "output_type": "execute_result"
    }
   ],
   "source": [
    "# `Country`: convert to category\n",
    "unicorn_data[\"Country\"].astype(str).unique()"
   ]
  },
  {
   "cell_type": "code",
   "execution_count": 8,
   "id": "292adc68",
   "metadata": {},
   "outputs": [],
   "source": [
    "unicorn_data[\"Country\"] = unicorn_data[\"Country\"].astype(\"category\")"
   ]
  },
  {
   "cell_type": "markdown",
   "id": "233130ed",
   "metadata": {},
   "source": [
    "### Industry"
   ]
  },
  {
   "cell_type": "code",
   "execution_count": 9,
   "id": "bb03649d",
   "metadata": {},
   "outputs": [
    {
     "data": {
      "text/plain": [
       "array(['Artificial intelligence', 'Other', 'Fintech',\n",
       "       'Internet software & services',\n",
       "       'Supply chain, logistics, & delivery',\n",
       "       'Data management & analytics', 'E-commerce & direct-to-consumer',\n",
       "       'Edtech', 'Hardware', 'Consumer & retail', 'Health',\n",
       "       'Auto & transportation', 'Finttech', 'Cybersecurity',\n",
       "       'Mobile & telecommunications', 'Travel', 'Artificial Intelligence'],\n",
       "      dtype=object)"
      ]
     },
     "execution_count": 9,
     "metadata": {},
     "output_type": "execute_result"
    }
   ],
   "source": [
    "# `Industry`: convert to category, fix incorrect spelling\n",
    "unicorn_data[\"Industry\"].astype(str).unique()"
   ]
  },
  {
   "cell_type": "code",
   "execution_count": 10,
   "id": "15eb94e8",
   "metadata": {},
   "outputs": [],
   "source": [
    "unicorn_data[\"Industry\"] = unicorn_data[\"Industry\"].replace({\"Artificial intelligence\": \"Artificial Intelligence\", \n",
    "                                                              \"Finttech\": \"Fintech\"}).astype(\"category\")"
   ]
  },
  {
   "cell_type": "markdown",
   "id": "e066ab70",
   "metadata": {},
   "source": [
    "### Financial Stage"
   ]
  },
  {
   "cell_type": "code",
   "execution_count": 11,
   "id": "f523313d",
   "metadata": {},
   "outputs": [
    {
     "data": {
      "text/plain": [
       "array(['IPO', 'None', 'Asset', 'Acquired', 'Acq', 'Divestiture', 'Take',\n",
       "       'Management', 'Reverse', 'Corporate'], dtype=object)"
      ]
     },
     "execution_count": 11,
     "metadata": {},
     "output_type": "execute_result"
    }
   ],
   "source": [
    "# `Financial Stage`: convert to category\n",
    "unicorn_data[\"Financial Stage\"].astype(str).unique()"
   ]
  },
  {
   "cell_type": "code",
   "execution_count": 12,
   "id": "79ebf616",
   "metadata": {},
   "outputs": [],
   "source": [
    "unicorn_data[\"Financial Stage\"] = unicorn_data[\"Financial Stage\"].replace({\"Acq\": \"Acquired\"}).astype(\"category\")"
   ]
  },
  {
   "cell_type": "markdown",
   "id": "8a2803a0",
   "metadata": {},
   "source": [
    "### Investor Count"
   ]
  },
  {
   "cell_type": "code",
   "execution_count": 13,
   "id": "1b895245",
   "metadata": {},
   "outputs": [],
   "source": [
    "# `Investor Count`: convert to integer\n",
    "unicorn_data[\"Investors Count\"] = unicorn_data[\"Investors Count\"].replace({\"None\": 0}).astype(int)"
   ]
  },
  {
   "cell_type": "markdown",
   "id": "57015cdd",
   "metadata": {},
   "source": [
    "### Total Raised"
   ]
  },
  {
   "cell_type": "code",
   "execution_count": 14,
   "id": "cae243db",
   "metadata": {},
   "outputs": [],
   "source": [
    "# `Total Raised`: convert to float and adjust unit\n",
    "unicorn_data[\"Total Raised\"] = unicorn_data[\"Total Raised\"].astype(str)\n",
    "unicorn_data[\"Total Raised ($M)\"] = unicorn_data[\"Total Raised\"].replace({\"\\$\": \"\", \"B$\": \"\", \"M$\": \"\",\"K$\": \"\", \n",
    "                                                                         \"None\": 0}, regex=True).astype(float)\n",
    "for i, row in unicorn_data.iterrows():\n",
    "    if \"B\" in row[\"Total Raised\"]:\n",
    "        # convert billion to million\n",
    "        unicorn_data.loc[i, \"Total Raised ($M)\"] = row[\"Total Raised ($M)\"] * 1000\n",
    "    elif \"K\" in row[\"Total Raised\"]:\n",
    "        # convert thousand to million\n",
    "        unicorn_data.loc[i, \"Total Raised ($M)\"] = row[\"Total Raised ($M)\"] / 1000\n",
    "unicorn_data = unicorn_data.drop(\"Total Raised\", axis=1)"
   ]
  },
  {
   "cell_type": "code",
   "execution_count": 15,
   "id": "5ad7fb58",
   "metadata": {},
   "outputs": [
    {
     "data": {
      "text/html": [
       "<div>\n",
       "<style scoped>\n",
       "    .dataframe tbody tr th:only-of-type {\n",
       "        vertical-align: middle;\n",
       "    }\n",
       "\n",
       "    .dataframe tbody tr th {\n",
       "        vertical-align: top;\n",
       "    }\n",
       "\n",
       "    .dataframe thead th {\n",
       "        text-align: right;\n",
       "    }\n",
       "</style>\n",
       "<table border=\"1\" class=\"dataframe\">\n",
       "  <thead>\n",
       "    <tr style=\"text-align: right;\">\n",
       "      <th></th>\n",
       "      <th>Company</th>\n",
       "      <th>Valuation ($B)</th>\n",
       "      <th>Date Joined</th>\n",
       "      <th>Country</th>\n",
       "      <th>Industry</th>\n",
       "      <th>Financial Stage</th>\n",
       "      <th>Investors Count</th>\n",
       "      <th>Total Raised ($M)</th>\n",
       "    </tr>\n",
       "  </thead>\n",
       "  <tbody>\n",
       "    <tr>\n",
       "      <th>0</th>\n",
       "      <td>Bytedance</td>\n",
       "      <td>140.0</td>\n",
       "      <td>2017-04-07</td>\n",
       "      <td>China</td>\n",
       "      <td>Artificial Intelligence</td>\n",
       "      <td>IPO</td>\n",
       "      <td>28</td>\n",
       "      <td>7440.0</td>\n",
       "    </tr>\n",
       "    <tr>\n",
       "      <th>1</th>\n",
       "      <td>SpaceX</td>\n",
       "      <td>100.3</td>\n",
       "      <td>2012-12-01</td>\n",
       "      <td>United States</td>\n",
       "      <td>Other</td>\n",
       "      <td>None</td>\n",
       "      <td>29</td>\n",
       "      <td>6874.0</td>\n",
       "    </tr>\n",
       "    <tr>\n",
       "      <th>2</th>\n",
       "      <td>Stripe</td>\n",
       "      <td>95.0</td>\n",
       "      <td>2014-01-23</td>\n",
       "      <td>United States</td>\n",
       "      <td>Fintech</td>\n",
       "      <td>Asset</td>\n",
       "      <td>39</td>\n",
       "      <td>2901.0</td>\n",
       "    </tr>\n",
       "  </tbody>\n",
       "</table>\n",
       "</div>"
      ],
      "text/plain": [
       "     Company  Valuation ($B) Date Joined        Country  \\\n",
       "0  Bytedance           140.0  2017-04-07          China   \n",
       "1     SpaceX           100.3  2012-12-01  United States   \n",
       "2     Stripe            95.0  2014-01-23  United States   \n",
       "\n",
       "                  Industry Financial Stage  Investors Count  Total Raised ($M)  \n",
       "0  Artificial Intelligence             IPO               28             7440.0  \n",
       "1                    Other            None               29             6874.0  \n",
       "2                  Fintech           Asset               39             2901.0  "
      ]
     },
     "execution_count": 15,
     "metadata": {},
     "output_type": "execute_result"
    }
   ],
   "source": [
    "# data frame after data cleaning\n",
    "unicorn_data.head(3)"
   ]
  },
  {
   "cell_type": "code",
   "execution_count": 16,
   "id": "faa0a438",
   "metadata": {},
   "outputs": [
    {
     "name": "stdout",
     "output_type": "stream",
     "text": [
      "<class 'pandas.core.frame.DataFrame'>\n",
      "RangeIndex: 1037 entries, 0 to 1036\n",
      "Data columns (total 8 columns):\n",
      " #   Column             Non-Null Count  Dtype         \n",
      "---  ------             --------------  -----         \n",
      " 0   Company            1037 non-null   object        \n",
      " 1   Valuation ($B)     1037 non-null   float64       \n",
      " 2   Date Joined        1037 non-null   datetime64[ns]\n",
      " 3   Country            1037 non-null   category      \n",
      " 4   Industry           1037 non-null   category      \n",
      " 5   Financial Stage    1037 non-null   category      \n",
      " 6   Investors Count    1037 non-null   int64         \n",
      " 7   Total Raised ($M)  1037 non-null   float64       \n",
      "dtypes: category(3), datetime64[ns](1), float64(2), int64(1), object(1)\n",
      "memory usage: 46.1+ KB\n"
     ]
    }
   ],
   "source": [
    "unicorn_data.info()"
   ]
  },
  {
   "cell_type": "markdown",
   "id": "34df983c",
   "metadata": {},
   "source": [
    "## 3.2 Change DataFrame"
   ]
  },
  {
   "cell_type": "markdown",
   "id": "be7f0f8a",
   "metadata": {},
   "source": [
    "To represent the size of companies in a more straighforward way, I mutated the data frame by adding a new column called `Size`. Accroding to investopedia, companies are categorized as Large-Cap, Mid-Cap and Small-Cap based on their market capitalization (`Valuation($B)` in the dataset). Therefore, I classified the size of companies as `Large`, `Medium`, `Small` by their `Valuation($B)`.\n",
    "- Large-Cap: >10 billion\n",
    "- Mid-Cap: 2-10 billion\n",
    "- Small-Cap: < 2 billon\n",
    "\n",
    "Source:\n",
    "https://www.investopedia.com/terms/l/large-cap.asp#:~:text=A%20large%2Dcap%20company%20has,%242%20billion%20in%20market%20capitalization."
   ]
  },
  {
   "cell_type": "code",
   "execution_count": 17,
   "id": "edf786b9",
   "metadata": {},
   "outputs": [
    {
     "data": {
      "text/html": [
       "<div>\n",
       "<style scoped>\n",
       "    .dataframe tbody tr th:only-of-type {\n",
       "        vertical-align: middle;\n",
       "    }\n",
       "\n",
       "    .dataframe tbody tr th {\n",
       "        vertical-align: top;\n",
       "    }\n",
       "\n",
       "    .dataframe thead th {\n",
       "        text-align: right;\n",
       "    }\n",
       "</style>\n",
       "<table border=\"1\" class=\"dataframe\">\n",
       "  <thead>\n",
       "    <tr style=\"text-align: right;\">\n",
       "      <th></th>\n",
       "      <th>Company</th>\n",
       "      <th>Valuation ($B)</th>\n",
       "      <th>Date Joined</th>\n",
       "      <th>Country</th>\n",
       "      <th>Industry</th>\n",
       "      <th>Financial Stage</th>\n",
       "      <th>Investors Count</th>\n",
       "      <th>Total Raised ($M)</th>\n",
       "      <th>Size</th>\n",
       "    </tr>\n",
       "  </thead>\n",
       "  <tbody>\n",
       "    <tr>\n",
       "      <th>0</th>\n",
       "      <td>Bytedance</td>\n",
       "      <td>140.0</td>\n",
       "      <td>2017-04-07</td>\n",
       "      <td>China</td>\n",
       "      <td>Artificial Intelligence</td>\n",
       "      <td>IPO</td>\n",
       "      <td>28</td>\n",
       "      <td>7440.0</td>\n",
       "      <td>Large</td>\n",
       "    </tr>\n",
       "    <tr>\n",
       "      <th>1</th>\n",
       "      <td>SpaceX</td>\n",
       "      <td>100.3</td>\n",
       "      <td>2012-12-01</td>\n",
       "      <td>United States</td>\n",
       "      <td>Other</td>\n",
       "      <td>None</td>\n",
       "      <td>29</td>\n",
       "      <td>6874.0</td>\n",
       "      <td>Large</td>\n",
       "    </tr>\n",
       "    <tr>\n",
       "      <th>2</th>\n",
       "      <td>Stripe</td>\n",
       "      <td>95.0</td>\n",
       "      <td>2014-01-23</td>\n",
       "      <td>United States</td>\n",
       "      <td>Fintech</td>\n",
       "      <td>Asset</td>\n",
       "      <td>39</td>\n",
       "      <td>2901.0</td>\n",
       "      <td>Large</td>\n",
       "    </tr>\n",
       "  </tbody>\n",
       "</table>\n",
       "</div>"
      ],
      "text/plain": [
       "     Company  Valuation ($B) Date Joined        Country  \\\n",
       "0  Bytedance           140.0  2017-04-07          China   \n",
       "1     SpaceX           100.3  2012-12-01  United States   \n",
       "2     Stripe            95.0  2014-01-23  United States   \n",
       "\n",
       "                  Industry Financial Stage  Investors Count  \\\n",
       "0  Artificial Intelligence             IPO               28   \n",
       "1                    Other            None               29   \n",
       "2                  Fintech           Asset               39   \n",
       "\n",
       "   Total Raised ($M)   Size  \n",
       "0             7440.0  Large  \n",
       "1             6874.0  Large  \n",
       "2             2901.0  Large  "
      ]
     },
     "execution_count": 17,
     "metadata": {},
     "output_type": "execute_result"
    }
   ],
   "source": [
    "# mutate data frame by adding a new column\n",
    "def firm_size(s):\n",
    "    if s > 10:\n",
    "        out = \"Large\"\n",
    "    elif s > 2:\n",
    "        out = \"Medium\"\n",
    "    else:\n",
    "        out = \"Small\"\n",
    "    return out\n",
    "\n",
    "unicorn_data[\"Size\"] = unicorn_data[\"Valuation ($B)\"].apply(firm_size)\n",
    "unicorn_data.head(3)"
   ]
  },
  {
   "cell_type": "markdown",
   "id": "562fcc14",
   "metadata": {},
   "source": [
    "I changed the format of `Date Joined` to display year rather than date and renamed the column to `Year Joined`."
   ]
  },
  {
   "cell_type": "code",
   "execution_count": 18,
   "id": "6c659f35",
   "metadata": {},
   "outputs": [],
   "source": [
    "# change from date to year\n",
    "unicorn_data[\"Date Joined\"] = pd.DatetimeIndex(unicorn_data[\"Date Joined\"]).year\n",
    "unicorn_data.rename(columns = {\"Date Joined\":\"Year Joined\"}, inplace = True)"
   ]
  },
  {
   "cell_type": "markdown",
   "id": "e1fa99ee",
   "metadata": {},
   "source": [
    "# 4. Data Exploration and Visualization"
   ]
  },
  {
   "cell_type": "markdown",
   "id": "f930bb04",
   "metadata": {},
   "source": [
    "To observe the trend in the rise of unicorns over time in different countries, I set `Year Joined` and `Country` as index."
   ]
  },
  {
   "cell_type": "code",
   "execution_count": 19,
   "id": "e622f744",
   "metadata": {},
   "outputs": [
    {
     "data": {
      "text/html": [
       "<div>\n",
       "<style scoped>\n",
       "    .dataframe tbody tr th:only-of-type {\n",
       "        vertical-align: middle;\n",
       "    }\n",
       "\n",
       "    .dataframe tbody tr th {\n",
       "        vertical-align: top;\n",
       "    }\n",
       "\n",
       "    .dataframe thead th {\n",
       "        text-align: right;\n",
       "    }\n",
       "</style>\n",
       "<table border=\"1\" class=\"dataframe\">\n",
       "  <thead>\n",
       "    <tr style=\"text-align: right;\">\n",
       "      <th></th>\n",
       "      <th></th>\n",
       "      <th>Company</th>\n",
       "      <th>Valuation ($B)</th>\n",
       "      <th>Industry</th>\n",
       "      <th>Financial Stage</th>\n",
       "      <th>Investors Count</th>\n",
       "      <th>Total Raised ($M)</th>\n",
       "      <th>Size</th>\n",
       "    </tr>\n",
       "    <tr>\n",
       "      <th>Year Joined</th>\n",
       "      <th>Country</th>\n",
       "      <th></th>\n",
       "      <th></th>\n",
       "      <th></th>\n",
       "      <th></th>\n",
       "      <th></th>\n",
       "      <th></th>\n",
       "      <th></th>\n",
       "    </tr>\n",
       "  </thead>\n",
       "  <tbody>\n",
       "    <tr>\n",
       "      <th rowspan=\"2\" valign=\"top\">2011</th>\n",
       "      <th>United States</th>\n",
       "      <td>Vice Media</td>\n",
       "      <td>5.70</td>\n",
       "      <td>Internet software &amp; services</td>\n",
       "      <td>Acquired</td>\n",
       "      <td>14</td>\n",
       "      <td>1555.0</td>\n",
       "      <td>Medium</td>\n",
       "    </tr>\n",
       "    <tr>\n",
       "      <th>Sweden</th>\n",
       "      <td>Klarna</td>\n",
       "      <td>45.60</td>\n",
       "      <td>Fintech</td>\n",
       "      <td>Acquired</td>\n",
       "      <td>56</td>\n",
       "      <td>3472.0</td>\n",
       "      <td>Large</td>\n",
       "    </tr>\n",
       "    <tr>\n",
       "      <th>2007</th>\n",
       "      <th>France</th>\n",
       "      <td>Veepee</td>\n",
       "      <td>1.38</td>\n",
       "      <td>E-commerce &amp; direct-to-consumer</td>\n",
       "      <td>None</td>\n",
       "      <td>5</td>\n",
       "      <td>202.0</td>\n",
       "      <td>Small</td>\n",
       "    </tr>\n",
       "  </tbody>\n",
       "</table>\n",
       "</div>"
      ],
      "text/plain": [
       "                              Company  Valuation ($B)  \\\n",
       "Year Joined Country                                     \n",
       "2011        United States  Vice Media            5.70   \n",
       "            Sweden             Klarna           45.60   \n",
       "2007        France             Veepee            1.38   \n",
       "\n",
       "                                                  Industry Financial Stage  \\\n",
       "Year Joined Country                                                          \n",
       "2011        United States     Internet software & services        Acquired   \n",
       "            Sweden                                 Fintech        Acquired   \n",
       "2007        France         E-commerce & direct-to-consumer            None   \n",
       "\n",
       "                           Investors Count  Total Raised ($M)    Size  \n",
       "Year Joined Country                                                    \n",
       "2011        United States               14             1555.0  Medium  \n",
       "            Sweden                      56             3472.0   Large  \n",
       "2007        France                       5              202.0   Small  "
      ]
     },
     "execution_count": 19,
     "metadata": {},
     "output_type": "execute_result"
    }
   ],
   "source": [
    "# reset index using \"Year Joined\" and \"Country\"\n",
    "unicorn_df = unicorn_data.set_index([\"Year Joined\", \"Country\"]).sort_index(ascending = False)\n",
    "unicorn_df.tail(3)"
   ]
  },
  {
   "cell_type": "markdown",
   "id": "640ccdcd",
   "metadata": {},
   "source": [
    "## 4.1 Number of Unicorns Joined Each Year"
   ]
  },
  {
   "cell_type": "code",
   "execution_count": 20,
   "id": "e0f64d2e",
   "metadata": {},
   "outputs": [
    {
     "data": {
      "text/plain": [
       "<AxesSubplot:title={'center':'Figure 1: Number of Unicorns'}, ylabel='Year Joined'>"
      ]
     },
     "execution_count": 20,
     "metadata": {},
     "output_type": "execute_result"
    },
    {
     "data": {
      "image/png": "[encoded data removed]",
      "text/plain": [
       "<Figure size 576x576 with 1 Axes>"
      ]
     },
     "metadata": {
      "needs_background": "light"
     },
     "output_type": "display_data"
    }
   ],
   "source": [
    "# number of unicorns joined each year from 2007-2022\n",
    "unicorn_df =  unicorn_data.groupby([\"Year Joined\"])\n",
    "\n",
    "unicorn_df[\"Company\"].count().plot(kind = \"barh\", figsize = (8, 8), \n",
    "                                   color = \"orange\", fontsize = 12,\n",
    "                                   title = \"Figure 1: Number of Unicorns\", ylabel = \"Count\")\n"
   ]
  },
  {
   "cell_type": "markdown",
   "id": "7d13461a",
   "metadata": {},
   "source": [
    "From the graph, there was a huge rise of unicorns in 2021. The reason could be that the boom of stock market in 2021 drove the valuation of unicorns."
   ]
  },
  {
   "cell_type": "markdown",
   "id": "6abc1f92",
   "metadata": {},
   "source": [
    "## 4.2 Number of Unicorns by Industry "
   ]
  },
  {
   "cell_type": "code",
   "execution_count": 21,
   "id": "0e90f084",
   "metadata": {},
   "outputs": [
    {
     "data": {
      "text/plain": [
       "<AxesSubplot:title={'center':'Figure 2: Number of Unicorns by Industry'}>"
      ]
     },
     "execution_count": 21,
     "metadata": {},
     "output_type": "execute_result"
    },
    {
     "data": {
      "image/png": "[encoded data removed]",
      "text/plain": [
       "<Figure size 576x576 with 1 Axes>"
      ]
     },
     "metadata": {
      "needs_background": "light"
     },
     "output_type": "display_data"
    }
   ],
   "source": [
    "# number of unicorns by industry\n",
    "unicorn_df =  unicorn_data.groupby([\"Industry\"])\n",
    "\n",
    "unicorn_df[\"Company\"].count().plot(kind = \"barh\", figsize = (8, 8), \n",
    "                                   color = \"green\", fontsize = 12,\n",
    "                                   title = \"Figure 2: Number of Unicorns by Industry\", ylabel = \"Count\", xlabel = \"\")"
   ]
  },
  {
   "cell_type": "markdown",
   "id": "8008a9a9",
   "metadata": {},
   "source": [
    "Among all the industries, Fintech and Internet Software & Services have the most unicorns. Both industries are related to the technology industry."
   ]
  },
  {
   "cell_type": "markdown",
   "id": "417b52e9",
   "metadata": {},
   "source": [
    "## 4.3 Sum of Total Raised Fund by Country\n"
   ]
  },
  {
   "cell_type": "code",
   "execution_count": 22,
   "id": "80d9dbdf",
   "metadata": {},
   "outputs": [
    {
     "data": {
      "text/html": [
       "<div>\n",
       "<style scoped>\n",
       "    .dataframe tbody tr th:only-of-type {\n",
       "        vertical-align: middle;\n",
       "    }\n",
       "\n",
       "    .dataframe tbody tr th {\n",
       "        vertical-align: top;\n",
       "    }\n",
       "\n",
       "    .dataframe thead th {\n",
       "        text-align: right;\n",
       "    }\n",
       "</style>\n",
       "<table border=\"1\" class=\"dataframe\">\n",
       "  <thead>\n",
       "    <tr style=\"text-align: right;\">\n",
       "      <th>Country</th>\n",
       "      <th>Argentina</th>\n",
       "      <th>Australia</th>\n",
       "      <th>Austria</th>\n",
       "      <th>Bahamas</th>\n",
       "      <th>Belgium</th>\n",
       "      <th>Bermuda</th>\n",
       "      <th>Brazil</th>\n",
       "      <th>Canada</th>\n",
       "      <th>Chile</th>\n",
       "      <th>China</th>\n",
       "      <th>...</th>\n",
       "      <th>South Korea</th>\n",
       "      <th>Spain</th>\n",
       "      <th>Sweden</th>\n",
       "      <th>Switzerland</th>\n",
       "      <th>Thailand</th>\n",
       "      <th>Turkey</th>\n",
       "      <th>United Arab Emirates</th>\n",
       "      <th>United Kingdom</th>\n",
       "      <th>United States</th>\n",
       "      <th>Vietnam</th>\n",
       "    </tr>\n",
       "    <tr>\n",
       "      <th>Year Joined</th>\n",
       "      <th></th>\n",
       "      <th></th>\n",
       "      <th></th>\n",
       "      <th></th>\n",
       "      <th></th>\n",
       "      <th></th>\n",
       "      <th></th>\n",
       "      <th></th>\n",
       "      <th></th>\n",
       "      <th></th>\n",
       "      <th></th>\n",
       "      <th></th>\n",
       "      <th></th>\n",
       "      <th></th>\n",
       "      <th></th>\n",
       "      <th></th>\n",
       "      <th></th>\n",
       "      <th></th>\n",
       "      <th></th>\n",
       "      <th></th>\n",
       "      <th></th>\n",
       "    </tr>\n",
       "  </thead>\n",
       "  <tbody>\n",
       "    <tr>\n",
       "      <th>2020</th>\n",
       "      <td>0.0</td>\n",
       "      <td>0.00</td>\n",
       "      <td>0.00</td>\n",
       "      <td>0.0</td>\n",
       "      <td>0.00</td>\n",
       "      <td>0.0</td>\n",
       "      <td>2411.18</td>\n",
       "      <td>479.91</td>\n",
       "      <td>0.00</td>\n",
       "      <td>13764.42</td>\n",
       "      <td>...</td>\n",
       "      <td>100.00</td>\n",
       "      <td>0.00</td>\n",
       "      <td>0.00</td>\n",
       "      <td>0.0</td>\n",
       "      <td>0.0</td>\n",
       "      <td>0.0</td>\n",
       "      <td>279.0</td>\n",
       "      <td>1520.16</td>\n",
       "      <td>36548.98</td>\n",
       "      <td>0.0</td>\n",
       "    </tr>\n",
       "    <tr>\n",
       "      <th>2021</th>\n",
       "      <td>608.0</td>\n",
       "      <td>880.71</td>\n",
       "      <td>1182.22</td>\n",
       "      <td>1829.0</td>\n",
       "      <td>319.00</td>\n",
       "      <td>0.0</td>\n",
       "      <td>2210.50</td>\n",
       "      <td>5938.38</td>\n",
       "      <td>395.84</td>\n",
       "      <td>14007.89</td>\n",
       "      <td>...</td>\n",
       "      <td>842.30</td>\n",
       "      <td>1072.00</td>\n",
       "      <td>1715.85</td>\n",
       "      <td>329.9</td>\n",
       "      <td>510.0</td>\n",
       "      <td>1639.2</td>\n",
       "      <td>502.2</td>\n",
       "      <td>5943.33</td>\n",
       "      <td>105354.08</td>\n",
       "      <td>594.7</td>\n",
       "    </tr>\n",
       "    <tr>\n",
       "      <th>2022</th>\n",
       "      <td>0.0</td>\n",
       "      <td>0.00</td>\n",
       "      <td>0.00</td>\n",
       "      <td>0.0</td>\n",
       "      <td>235.89</td>\n",
       "      <td>0.0</td>\n",
       "      <td>720.42</td>\n",
       "      <td>853.27</td>\n",
       "      <td>202.50</td>\n",
       "      <td>710.00</td>\n",
       "      <td>...</td>\n",
       "      <td>331.23</td>\n",
       "      <td>408.58</td>\n",
       "      <td>0.00</td>\n",
       "      <td>273.0</td>\n",
       "      <td>0.0</td>\n",
       "      <td>166.2</td>\n",
       "      <td>0.0</td>\n",
       "      <td>1655.06</td>\n",
       "      <td>11836.97</td>\n",
       "      <td>0.0</td>\n",
       "    </tr>\n",
       "  </tbody>\n",
       "</table>\n",
       "<p>3 rows × 46 columns</p>\n",
       "</div>"
      ],
      "text/plain": [
       "Country      Argentina  Australia  Austria  Bahamas  Belgium  Bermuda  \\\n",
       "Year Joined                                                             \n",
       "2020               0.0       0.00     0.00      0.0     0.00      0.0   \n",
       "2021             608.0     880.71  1182.22   1829.0   319.00      0.0   \n",
       "2022               0.0       0.00     0.00      0.0   235.89      0.0   \n",
       "\n",
       "Country       Brazil   Canada   Chile     China  ...  South Korea    Spain  \\\n",
       "Year Joined                                      ...                         \n",
       "2020         2411.18   479.91    0.00  13764.42  ...       100.00     0.00   \n",
       "2021         2210.50  5938.38  395.84  14007.89  ...       842.30  1072.00   \n",
       "2022          720.42   853.27  202.50    710.00  ...       331.23   408.58   \n",
       "\n",
       "Country       Sweden  Switzerland  Thailand  Turkey  United Arab Emirates  \\\n",
       "Year Joined                                                                 \n",
       "2020            0.00          0.0       0.0     0.0                 279.0   \n",
       "2021         1715.85        329.9     510.0  1639.2                 502.2   \n",
       "2022            0.00        273.0       0.0   166.2                   0.0   \n",
       "\n",
       "Country      United Kingdom  United States  Vietnam  \n",
       "Year Joined                                          \n",
       "2020                1520.16       36548.98      0.0  \n",
       "2021                5943.33      105354.08    594.7  \n",
       "2022                1655.06       11836.97      0.0  \n",
       "\n",
       "[3 rows x 46 columns]"
      ]
     },
     "execution_count": 22,
     "metadata": {},
     "output_type": "execute_result"
    }
   ],
   "source": [
    "# sum of Total Raised ($M) each year by country \n",
    "unicorn_country = unicorn_data.pivot_table(index=\"Year Joined\", columns=\"Country\", values=\"Total Raised ($M)\", \n",
    "                                           aggfunc=sum)\n",
    "unicorn_country.tail(3)"
   ]
  },
  {
   "cell_type": "code",
   "execution_count": 23,
   "id": "23208656",
   "metadata": {},
   "outputs": [
    {
     "data": {
      "text/html": [
       "<div>\n",
       "<style scoped>\n",
       "    .dataframe tbody tr th:only-of-type {\n",
       "        vertical-align: middle;\n",
       "    }\n",
       "\n",
       "    .dataframe tbody tr th {\n",
       "        vertical-align: top;\n",
       "    }\n",
       "\n",
       "    .dataframe thead th {\n",
       "        text-align: right;\n",
       "    }\n",
       "</style>\n",
       "<table border=\"1\" class=\"dataframe\">\n",
       "  <thead>\n",
       "    <tr style=\"text-align: right;\">\n",
       "      <th></th>\n",
       "      <th>Total Raised ($M)</th>\n",
       "    </tr>\n",
       "    <tr>\n",
       "      <th>Country</th>\n",
       "      <th></th>\n",
       "    </tr>\n",
       "  </thead>\n",
       "  <tbody>\n",
       "    <tr>\n",
       "      <th>United States</th>\n",
       "      <td>263732.80</td>\n",
       "    </tr>\n",
       "    <tr>\n",
       "      <th>China</th>\n",
       "      <td>120717.36</td>\n",
       "    </tr>\n",
       "    <tr>\n",
       "      <th>India</th>\n",
       "      <td>44708.99</td>\n",
       "    </tr>\n",
       "    <tr>\n",
       "      <th>United Kingdom</th>\n",
       "      <td>29082.73</td>\n",
       "    </tr>\n",
       "    <tr>\n",
       "      <th>Germany</th>\n",
       "      <td>17817.35</td>\n",
       "    </tr>\n",
       "  </tbody>\n",
       "</table>\n",
       "</div>"
      ],
      "text/plain": [
       "                Total Raised ($M)\n",
       "Country                          \n",
       "United States           263732.80\n",
       "China                   120717.36\n",
       "India                    44708.99\n",
       "United Kingdom           29082.73\n",
       "Germany                  17817.35"
      ]
     },
     "execution_count": 23,
     "metadata": {},
     "output_type": "execute_result"
    }
   ],
   "source": [
    "# top 5 countries that has most Total Raised($M)\n",
    "unicorn_country_sum = unicorn_country.sum(axis = 0).to_frame(name = \"Total Raised ($M)\")\n",
    "\n",
    "unicorn_country_sum = unicorn_country_sum.sort_values(\"Total Raised ($M)\", ascending = False).head(5)\n",
    "\n",
    "unicorn_country_sum"
   ]
  },
  {
   "cell_type": "code",
   "execution_count": 24,
   "id": "4ae9f381",
   "metadata": {},
   "outputs": [
    {
     "data": {
      "text/plain": [
       "<AxesSubplot:title={'center':'Figure 3: Total Raised Fund by Country'}, xlabel='Year Joined', ylabel='Total Raised ($M)'>"
      ]
     },
     "execution_count": 24,
     "metadata": {},
     "output_type": "execute_result"
    },
    {
     "data": {
      "image/png": "[encoded data removed]",
      "text/plain": [
       "<Figure size 720x576 with 1 Axes>"
      ]
     },
     "metadata": {
      "needs_background": "light"
     },
     "output_type": "display_data"
    }
   ],
   "source": [
    "# plot top 5 countries that has most Total Raised($M)\n",
    "country = [\"United States\",\"China\",\"India\",\"United Kingdom\",\"Germany\"]\n",
    "\n",
    "unicorn_country[country].plot(figsize = (10, 8), title = \"Figure 3: Total Raised Fund by Country\",\n",
    "                              xlabel='Year Joined', ylabel = \"Total Raised ($M)\")"
   ]
  },
  {
   "cell_type": "markdown",
   "id": "216672f3",
   "metadata": {},
   "source": [
    "From the graph, the top 3 countries that have the most total raised fund are United States, China and India. Unicorns from United States raised significant amount of fund from 2020 to 2021 but experienced a huge drop in 2022. "
   ]
  },
  {
   "cell_type": "markdown",
   "id": "92960912",
   "metadata": {},
   "source": [
    "## 4.4 Sum of Investors Count by Country\n",
    "By applying the same method as above, I visualized the top 5 countries with the most investor counts by country and year."
   ]
  },
  {
   "cell_type": "code",
   "execution_count": 25,
   "id": "a3715bd5",
   "metadata": {},
   "outputs": [
    {
     "data": {
      "text/html": [
       "<div>\n",
       "<style scoped>\n",
       "    .dataframe tbody tr th:only-of-type {\n",
       "        vertical-align: middle;\n",
       "    }\n",
       "\n",
       "    .dataframe tbody tr th {\n",
       "        vertical-align: top;\n",
       "    }\n",
       "\n",
       "    .dataframe thead th {\n",
       "        text-align: right;\n",
       "    }\n",
       "</style>\n",
       "<table border=\"1\" class=\"dataframe\">\n",
       "  <thead>\n",
       "    <tr style=\"text-align: right;\">\n",
       "      <th></th>\n",
       "      <th>Investors Count</th>\n",
       "    </tr>\n",
       "    <tr>\n",
       "      <th>Country</th>\n",
       "      <th></th>\n",
       "    </tr>\n",
       "  </thead>\n",
       "  <tbody>\n",
       "    <tr>\n",
       "      <th>United States</th>\n",
       "      <td>8035</td>\n",
       "    </tr>\n",
       "    <tr>\n",
       "      <th>China</th>\n",
       "      <td>2183</td>\n",
       "    </tr>\n",
       "    <tr>\n",
       "      <th>India</th>\n",
       "      <td>1136</td>\n",
       "    </tr>\n",
       "    <tr>\n",
       "      <th>United Kingdom</th>\n",
       "      <td>521</td>\n",
       "    </tr>\n",
       "    <tr>\n",
       "      <th>Germany</th>\n",
       "      <td>361</td>\n",
       "    </tr>\n",
       "  </tbody>\n",
       "</table>\n",
       "</div>"
      ],
      "text/plain": [
       "                Investors Count\n",
       "Country                        \n",
       "United States              8035\n",
       "China                      2183\n",
       "India                      1136\n",
       "United Kingdom              521\n",
       "Germany                     361"
      ]
     },
     "execution_count": 25,
     "metadata": {},
     "output_type": "execute_result"
    }
   ],
   "source": [
    "# top 5 countries that have most Investor Counts\n",
    "unicorn_investors = unicorn_data.pivot_table(index=\"Year Joined\", columns=\"Country\", values=\"Investors Count\", \n",
    "                                           aggfunc=sum)\n",
    "\n",
    "unicorn_investors_sum = unicorn_investors.sum(axis = 0).to_frame(name = \"Investors Count\")\n",
    "\n",
    "unicorn_investors_sum = unicorn_investors_sum.sort_values(\"Investors Count\", ascending = False).head(5)\n",
    "unicorn_investors_sum"
   ]
  },
  {
   "cell_type": "code",
   "execution_count": 26,
   "id": "2f962d29",
   "metadata": {},
   "outputs": [
    {
     "data": {
      "text/plain": [
       "<AxesSubplot:title={'center':'Figure 4: Investor Count by Country'}, xlabel='Year Joined', ylabel='Investors Counts'>"
      ]
     },
     "execution_count": 26,
     "metadata": {},
     "output_type": "execute_result"
    },
    {
     "data": {
      "image/png": "[encoded data removed]",
      "text/plain": [
       "<Figure size 720x576 with 1 Axes>"
      ]
     },
     "metadata": {
      "needs_background": "light"
     },
     "output_type": "display_data"
    }
   ],
   "source": [
    "# plot top 5 countries that have most Investor Counts\n",
    "country = [\"United States\",\"China\",\"India\",\"United Kingdom\",\"Germany\"]\n",
    "\n",
    "unicorn_investors[country].plot(figsize = (10, 8), title = \"Figure 4: Investor Count by Country\", \n",
    "                                xlabel='Year Joined', ylabel = \"Investors Counts\")"
   ]
  },
  {
   "cell_type": "markdown",
   "id": "dee3aad4",
   "metadata": {},
   "source": [
    "From Figure 3 and Figure 4, the top 5 countries that have the most `Total Raised` and `Investor Count` are the same. Among the 5 countries, American unicorns got the most financial support and investors. Overall, there was a spike from 2020 to 2021 and a huge drop from 2021 to 2022. "
   ]
  },
  {
   "cell_type": "markdown",
   "id": "c49f0f26",
   "metadata": {},
   "source": [
    "## 4.5 Financial Stage of Unicorns"
   ]
  },
  {
   "cell_type": "code",
   "execution_count": 27,
   "id": "3cc859c7",
   "metadata": {},
   "outputs": [
    {
     "name": "stdout",
     "output_type": "stream",
     "text": [
      "Out of 1037 unicorn companies, 7 went IPO\n",
      "Out of 1037 unicorn companies, 29 got acquired\n"
     ]
    }
   ],
   "source": [
    "# number of unicorns went IPO\n",
    "ipo = unicorn_data[\"Financial Stage\"] == \"IPO\"\n",
    "num_ipo = unicorn_data[\"Financial Stage\"].loc[ipo].count()\n",
    "\n",
    "print(\"Out of {} unicorn companies, {} went IPO\".format(len(unicorn_data[\"Financial Stage\"]), num_ipo))\n",
    "\n",
    "# number of unicorns were acquired\n",
    "acq = unicorn_data[\"Financial Stage\"] == \"Acquired\"\n",
    "num_acq = unicorn_data[\"Financial Stage\"].loc[acq].count()\n",
    "\n",
    "print(\"Out of {} unicorn companies, {} got acquired\".format(len(unicorn_data[\"Financial Stage\"]), num_acq))"
   ]
  },
  {
   "cell_type": "markdown",
   "id": "12709fce",
   "metadata": {},
   "source": [
    "# 5. Model Constructing and Prediction"
   ]
  },
  {
   "cell_type": "markdown",
   "id": "a09a0593",
   "metadata": {},
   "source": [
    "For unicorns, the amount of fund they raise from investors is one of the factors to determine the speed of their growth. Therefore, I wanted to run a regression model to predict the total raised fund given a company's valuation.\n",
    "\n",
    "Feature Variable: `Valuation ($B)`\n",
    "\n",
    "Target Variable: `Total Raised ($M)`"
   ]
  },
  {
   "cell_type": "markdown",
   "id": "a3403feb",
   "metadata": {},
   "source": [
    "## 5.1 Simple Linear Regression"
   ]
  },
  {
   "cell_type": "code",
   "execution_count": 28,
   "id": "f2c90cfa",
   "metadata": {},
   "outputs": [
    {
     "name": "stdout",
     "output_type": "stream",
     "text": [
      "Fit model: Total Raised ($M) = 359.66 + 61.60 Valuation\n"
     ]
    }
   ],
   "source": [
    "X = unicorn_data\n",
    "y = unicorn_data[\"Total Raised ($M)\"]\n",
    "\n",
    "# construct the linear regression model\n",
    "unicorn_lr_model = linear_model.LinearRegression()\n",
    "\n",
    "# fit the model\n",
    "unicorn_lr_model.fit(X[[\"Valuation ($B)\"]], y)\n",
    "\n",
    "# print the coefficients\n",
    "beta_0 = unicorn_lr_model.intercept_\n",
    "beta_1 = unicorn_lr_model.coef_[0]\n",
    "\n",
    "print(f\"Fit model: Total Raised ($M) = {beta_0:.2f} + {beta_1:.2f} Valuation\")"
   ]
  },
  {
   "cell_type": "code",
   "execution_count": 29,
   "id": "cb7391ff",
   "metadata": {},
   "outputs": [
    {
     "data": {
      "text/plain": [
       "[<matplotlib.lines.Line2D at 0x7fa140feaee0>]"
      ]
     },
     "execution_count": 29,
     "metadata": {},
     "output_type": "execute_result"
    },
    {
     "data": {
      "image/png": "[encoded data removed]",
      "text/plain": [
       "<Figure size 720x576 with 1 Axes>"
      ]
     },
     "metadata": {
      "needs_background": "light"
     },
     "output_type": "display_data"
    }
   ],
   "source": [
    "# draw the scatter plot and the optimal linear regression line\n",
    "def unicorn_scatter(df, ax=None, var=\"Valuation ($B)\"):\n",
    "    if ax is None:\n",
    "        _, ax = plt.subplots(figsize=(10, 8))\n",
    "    df.plot.scatter(x=var , y=\"Total Raised ($M)\", s = 3, ax = ax, xlim = (1, 10), ylim = (0,2000), \n",
    "                    title = \"Figure 5: Valuation vs. Total Raised Fund\")\n",
    "    return ax\n",
    "\n",
    "ax = unicorn_scatter(X)\n",
    "\n",
    "# points for the line\n",
    "x = np.array([0, X[\"Valuation ($B)\"].max()])\n",
    "ax.plot(x, beta_0 + beta_1*x)"
   ]
  },
  {
   "cell_type": "markdown",
   "id": "6789f413",
   "metadata": {},
   "source": [
    "## 5.2 Prediction"
   ]
  },
  {
   "cell_type": "code",
   "execution_count": 30,
   "id": "52bb2e2f",
   "metadata": {},
   "outputs": [
    {
     "name": "stdout",
     "output_type": "stream",
     "text": [
      "The model predicts a $3.0 billion unicorn would raise fund for 544.45 million dollars\n"
     ]
    }
   ],
   "source": [
    "# prediction with new observation\n",
    "new_obs = unicorn_lr_model.predict([[3.0]])[0]\n",
    "\n",
    "print(f\"The model predicts a $3.0 billion unicorn would raise fund for {new_obs:.2f} million dollars\")"
   ]
  },
  {
   "cell_type": "markdown",
   "id": "cfa93925",
   "metadata": {},
   "source": [
    "## 5.3 Model Accuracy"
   ]
  },
  {
   "cell_type": "markdown",
   "id": "9299b33a",
   "metadata": {},
   "source": [
    "I splitted the dataset to 75% training data and 25 % testing data and computed MSE for both training and testing dataset to assess the model accuracy. "
   ]
  },
  {
   "cell_type": "code",
   "execution_count": 31,
   "id": "3187171e",
   "metadata": {},
   "outputs": [
    {
     "name": "stdout",
     "output_type": "stream",
     "text": [
      "Linear Regression {'mse_train': 2.808093911524468e-27, 'mse_test': 1.2124299459698585e-27}\n"
     ]
    }
   ],
   "source": [
    "X = unicorn_data[[\"Valuation ($B)\",\"Total Raised ($M)\"]] \n",
    "y = unicorn_data[\"Total Raised ($M)\"]\n",
    "\n",
    "# split training and testing set\n",
    "X_train, X_test, y_train, y_test = model_selection.train_test_split(X, y, test_size=0.25)\n",
    "\n",
    "# compute MSE for traning and test dataset \n",
    "\n",
    "def fit_and_report_mses(mod, X_train, X_test, y_train, y_test):\n",
    "    mod.fit(X_train, y_train)\n",
    "    return dict(\n",
    "        mse_train=metrics.mean_squared_error(y_train, mod.predict(X_train)),\n",
    "        mse_test=metrics.mean_squared_error(y_test, mod.predict(X_test))\n",
    "    )\n",
    "\n",
    "print(\"Linear Regression\", fit_and_report_mses(linear_model.LinearRegression(), X_train, X_test, y_train, y_test))\n"
   ]
  },
  {
   "cell_type": "markdown",
   "id": "cba2c675",
   "metadata": {},
   "source": [
    "MSE for both training and testing dataset is low, which shows a high accuracy of this model. There were not many numerical variables in this dataset to perform multi-variable regression. In reality, to more accurately predict the total raised fund by an unicorn, we need more financial data from the company. "
   ]
  },
  {
   "cell_type": "markdown",
   "id": "3f2d4c59",
   "metadata": {},
   "source": [
    "# Summary"
   ]
  },
  {
   "cell_type": "markdown",
   "id": "a715b0ab",
   "metadata": {},
   "source": [
    "In conclusion, the number of unicorns has been increasing from 2007-2022. Among all the industries, Fintech and Internet Software & Services have the most unicorns. And many unicorns are in the technology indutry. From the summary of total raised fund and investor counts by country, United States, China and India has the most unicorns. And this aligns with the rapid economic growth of these three countries. American unicorns are most attractive to investors as they received significantly more investment than any other countries. Surprisingly, out of 1037 unicorn companies, only 7 are IPO, which means most of them remain private. Although IPO doesn't mean they are more successful but it's an effective way for investors to realize their returns. Therefore, this leads to some questions I can further research on: Are unicorns really worth to invest? If so, how to choose the most valuable unicorns?\n"
   ]
  },
  {
   "cell_type": "markdown",
   "id": "0f925683",
   "metadata": {},
   "source": [
    "GitHub Repository: https://github.com/cathylxy/cathylxy-Unicorn-Companies-Data-Analysis.git"
   ]
  }
 ],
 "metadata": {
  "kernelspec": {
   "display_name": "Python 3 (ipykernel)",
   "language": "python",
   "name": "python3"
  },
  "language_info": {
   "codemirror_mode": {
    "name": "ipython",
    "version": 3
   },
   "file_extension": ".py",
   "mimetype": "text/x-python",
   "name": "python",
   "nbconvert_exporter": "python",
   "pygments_lexer": "ipython3",
   "version": "3.9.7"
  }
 },
 "nbformat": 4,
 "nbformat_minor": 5
}
